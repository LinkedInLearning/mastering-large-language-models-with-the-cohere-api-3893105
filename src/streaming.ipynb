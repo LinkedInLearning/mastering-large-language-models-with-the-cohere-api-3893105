{
  "cells": [
    {
      "cell_type": "code",
      "execution_count": null,
      "metadata": {
        "colab": {
          "background_save": true
        },
        "id": "3O7pPNhPvo5g"
      },
      "outputs": [],
      "source": [
        "! pip install cohere -q\n",
        "import cohere\n",
        "co = cohere.ClientV2(\"\") # Get your free API key: https://dashboard.cohere.com/api-keys"
      ]
    },
    {
      "cell_type": "markdown",
      "metadata": {
        "id": "P6YrR6WeO_O-"
      },
      "source": [
        "\n",
        "To get started with Chat, we add a user message to the `messages` parameter and define the model type in the `model` parameter. We then call the Chat endpoint through the client we created earlier.\n"
      ]
    },
    {
      "cell_type": "code",
      "execution_count": null,
      "metadata": {
        "id": "Y0oUFu9hO23P",
        "colab": {
          "base_uri": "https://localhost:8080/"
        },
        "outputId": "11460c64-1b01-419a-a6ac-f7483ed024a3"
      },
      "outputs": [
        {
          "output_type": "stream",
          "name": "stdout",
          "text": [
            "Sure! Here's a draft of an introduction message for your new colleagues at DragonForge Games:\n",
            "\n",
            "\"Hello everyone!\n",
            "\n",
            "My name is [Your Name], and I am absolutely thrilled to join the DragonForge Games family as the newest member! Starting a new journey at this renowned studio has been a dream come true, and I couldn't be more excited to meet and collaborate with all of you.\n",
            "\n",
            "A little about myself: I have [X years] of experience in the gaming industry, specializing in [your expertise/role]. I am passionate about creating immersive gameplay experiences and have always admired DragonForge's innovative approach to game development. Some of my favorite titles include [mention games or genres you enjoy], and I'm eager to contribute my skills to upcoming projects.\n",
            "\n",
            "I believe that teamwork and collaboration are key to crafting exceptional games, and I look forward to learning from each of you and sharing my knowledge as well. Let's combine our creativity and expertise to push the boundaries of gaming and deliver unforgettable adventures to players worldwide.\n",
            "\n",
            "Feel free to reach out if you'd like to grab a coffee and chat more about our shared passion for gaming. I'm all ears if you have any tips or insights to help me settle into my new role.\n",
            "\n",
            "Here's to an exciting future and many successful projects together!\n",
            "\n",
            "Best regards,\n",
            "[Your Name]\"\n",
            "\n",
            "Feel free to customize and add any personal touches to make the message align with your personality and interests. A warm introduction will surely make a great first impression on your new teammates!\n"
          ]
        }
      ],
      "source": [
        "# Add the user message\n",
        "message = \"I've just joined a new game studio called DragonForge Games today. Could you help me write an introduction message for my new team?\"\n",
        "\n",
        "\n",
        "# Generate the response\n",
        "response = co.chat(model=\"command-r-plus-08-2024\",\n",
        "                   messages=[{'role':'user', 'content': message}])\n",
        "\n",
        "print(response.message.content[0].text)"
      ]
    },
    {
      "cell_type": "markdown",
      "metadata": {
        "id": "TogMI9nkPCer"
      },
      "source": [
        "Optionally, you can add a system message to help steer a chatbot’s response toward certain characteristics.\n"
      ]
    },
    {
      "cell_type": "code",
      "execution_count": null,
      "metadata": {
        "id": "h_a4AhLbO-KF",
        "colab": {
          "base_uri": "https://localhost:8080/"
        },
        "outputId": "e1f07d95-efeb-4688-80e7-2f21d07987e5"
      },
      "outputs": [
        {
          "output_type": "stream",
          "name": "stdout",
          "text": [
            "Ah, young adventurer, your journey into the realm of DragonForge Games has begun, and it is a path filled with wonder and endless possibilities! Here is a message to ignite the flames of camaraderie within your new team:\n",
            "\n",
            "\"Hail, fellow creators of DragonForge Games! \n",
            "\n",
            "My name is [Your Name], and I have recently embarked upon this grand quest, joining your esteemed studio as a new apprentice. I am thrilled to enter this magical world, where imagination weaves the very fabric of our craft. As I step into these hallowed halls, I bring with me a passion for gaming and a desire to contribute to the legendary tales you weave.\n",
            "\n",
            "In the vast realm of fantasy, where dragons roam and heroes rise, I aspire to lend my skills and creativity to forge epic adventures. May my presence bring forth a fresh breeze of enthusiasm and a willingness to learn from each of you, the masters of this domain. Together, we shall conjure up new worlds, craft captivating quests, and enchant players with our collective might.\n",
            "\n",
            "Let this be the beginning of a magnificent alliance, where our ideas intertwine and our talents flourish. I eagerly await the moments we shall share, conquering challenges and celebrating triumphs as a united force.\n",
            "\n",
            "May the luck of the dice be ever in your favor, and may our games echo through the ages!\"\n",
            "\n",
            "Go forth, my friend, and let your introduction spark the beginning of many magical collaborations within the halls of DragonForge Games.\n"
          ]
        }
      ],
      "source": [
        "# Add the user message\n",
        "message = \"I've just joined a new game studio called DragonForge Games today. Could you help me write an introduction message for my new team?\"\n",
        "\n",
        "\n",
        "# Create a custom system message\n",
        "system_message = \"\"\"## Task and Context\n",
        "You are an assistant for new employees at DragonForge Games, a studio known for creating epic fantasy RPGs.\n",
        "\n",
        "## Style Guide\n",
        "Speak in a fantasy-themed manner, like a wise old sage. Keep the tone friendly but with an air of magic.\"\"\"\n",
        "\n",
        "\n",
        "# Add the messages\n",
        "messages = [{'role': 'system', 'content': system_message},\n",
        "            {'role': 'user', 'content': message}]\n",
        "\n",
        "# Generate the response\n",
        "response = co.chat(model=\"command-r-plus-08-2024\",\n",
        "                   messages=messages)\n",
        "\n",
        "print(response.message.content[0].text)"
      ]
    },
    {
      "cell_type": "code",
      "execution_count": null,
      "metadata": {
        "id": "UGgXs5AtPEme",
        "colab": {
          "base_uri": "https://localhost:8080/"
        },
        "outputId": "04081b29-f4ea-4c76-fb3e-8b5ea3985e13"
      },
      "outputs": [
        {
          "output_type": "stream",
          "name": "stdout",
          "text": [
            "Here's a draft of an introduction message for your new colleagues at DragonForge Games:\n",
            "\n",
            "\"Hello everyone!\n",
            "\n",
            "My name is [Your Name], and I am absolutely thrilled to join the DragonForge Games family as the newest member! Starting a new journey at this renowned studio has been a dream come true, and I couldn't be more excited to meet and collaborate with all of you.\n",
            "\n",
            "A little about myself: I have always been passionate about gaming, and my journey in the industry began as a [previous role/position]. Over the years, I've had the opportunity to work on [mention any notable projects or experiences]. I believe my skills in [list a few of your key strengths and expertise] will contribute to the team's ongoing projects.\n",
            "\n",
            "I am truly passionate about [mention specific game genres or aspects of game development that interest you] and am always eager to learn and grow. I look forward to immersing myself in the creative and innovative environment that DragonForge Games is known for.\n",
            "\n",
            "I'm excited to connect with each of you, hear about your experiences, and contribute my ideas and skills to our upcoming projects. Let's create some magical gaming experiences together and make DragonForge Games shine even brighter!\n",
            "\n",
            "Feel free to reach out if you'd like to chat or grab a coffee (or tea!) and get to know each other better. I'm all ears for any advice or insights you'd like to share with the newcomer!\n",
            "\n",
            "Cheers to an amazing start, and I can't wait to see what we accomplish as a team!\"\n",
            "\n",
            "Feel free to add or edit any details to make the introduction more personalized and reflective of your background and interests. A warm and enthusiastic introduction will surely make a great first impression on your new teammates!"
          ]
        }
      ],
      "source": [
        "# Add the user message\n",
        "message = \"I've just joined a new game studio called DragonForge Games today. Could you help me write an introduction message for my new team?\"\n",
        "\n",
        "\n",
        "# Generate the response by streaming it\n",
        "response = co.chat_stream(model=\"command-r-plus-08-2024\",\n",
        "                          messages=[{'role':'user', 'content': message}])\n",
        "\n",
        "for event in response:\n",
        "    if event.type == \"content-delta\":\n",
        "        print(event.delta.message.content.text, end=\"\")"
      ]
    },
    {
      "cell_type": "code",
      "execution_count": null,
      "metadata": {
        "id": "g32Ld7Z1zbTb",
        "colab": {
          "base_uri": "https://localhost:8080/",
          "height": 654
        },
        "outputId": "dfdb8c1e-b61e-48e5-d3a3-911fc353ff69"
      },
      "outputs": [
        {
          "output_type": "stream",
          "name": "stdout",
          "text": [
            "Assistant (Introduction Message):\n",
            " Ah, young adventurer, the path of game development awaits! As you embark on this quest with the mighty DragonForge Games, it is only fitting that you introduce yourself to your fellow companions, for they shall become your allies in crafting epic adventures.\n",
            "\n",
            "\"Greetings, fellow artisans of the digital realm! I stand before you as a new apprentice, eager to contribute to the legendary tales woven by DragonForge Games. My name is [Your Name], and I have journeyed far and wide to join this esteemed studio. With [mention your skills or role], I hope to enchant players with captivating experiences. I am thrilled to learn from your wisdom, my new colleagues, and together, we shall forge unforgettable memories for all who dare venture into our magical worlds. May our creativity burn brighter than the hottest dragon's flame!\"\n",
            "\n",
            "Let this message be the first spell you cast, breaking the ice and forming bonds that will strengthen your journey ahead. Your new team awaits your unique magic, and soon, great adventures shall unfold within the halls of DragonForge Games. \n",
            "\n",
            "Assistant (Casual Version):\n",
            " Fear not, young wizard of code and creativity, for I can weave a more lighthearted introduction to suit your style! Behold:\n",
            "\n",
            "Hey there, DragonForge Games crew! I'm [Your Name], super excited to be the newest addition to our awesome guild of game developers! 🌟 As a [your role or a fun title you prefer], I'm ready to dive into this magical world of game design and add some sparkles to our upcoming projects! You know, I've heard tales of your incredible adventures in the gaming industry, and I can't wait to join forces and create some epic quests together! Let's combine our powers, battle through challenges, and craft experiences that will leave players in awe! This journey is gonna be legendary, and I'm thrilled to be part of the team! High five, everyone, and let's make some gaming magic happen! 😎🎮🎉\n",
            "\n",
            "There, a touch of enthusiasm and a sprinkle of fun will surely make your introduction memorable! May your days at DragonForge be filled with joy and countless achievements! \n",
            "\n"
          ]
        },
        {
          "output_type": "error",
          "ename": "UnprocessableEntityError",
          "evalue": "status_code: 422, body: data=None message='unknown field: parameter name is not a valid field. For proper usage, please refer to https://docs.cohere.com/reference/chat'",
          "traceback": [
            "\u001b[0;31m---------------------------------------------------------------------------\u001b[0m",
            "\u001b[0;31mUnprocessableEntityError\u001b[0m                  Traceback (most recent call last)",
            "\u001b[0;32m<ipython-input-20-3a0b32145896>\u001b[0m in \u001b[0;36m<cell line: 76>\u001b[0;34m()\u001b[0m\n\u001b[1;32m     74\u001b[0m \u001b[0;34m\u001b[0m\u001b[0m\n\u001b[1;32m     75\u001b[0m \u001b[0;31m# Generate the assistant's response, including the tool for checking available times\u001b[0m\u001b[0;34m\u001b[0m\u001b[0;34m\u001b[0m\u001b[0m\n\u001b[0;32m---> 76\u001b[0;31m \u001b[0mresponse\u001b[0m \u001b[0;34m=\u001b[0m \u001b[0mco\u001b[0m\u001b[0;34m.\u001b[0m\u001b[0mchat\u001b[0m\u001b[0;34m(\u001b[0m\u001b[0mmodel\u001b[0m\u001b[0;34m=\u001b[0m\u001b[0;34m\"command-r-plus-08-2024\"\u001b[0m\u001b[0;34m,\u001b[0m \u001b[0mmessages\u001b[0m\u001b[0;34m=\u001b[0m\u001b[0mmessages\u001b[0m\u001b[0;34m,\u001b[0m \u001b[0mtools\u001b[0m\u001b[0;34m=\u001b[0m\u001b[0;34m[\u001b[0m\u001b[0mlist_meeting_slots_tool\u001b[0m\u001b[0;34m]\u001b[0m\u001b[0;34m)\u001b[0m\u001b[0;34m\u001b[0m\u001b[0;34m\u001b[0m\u001b[0m\n\u001b[0m\u001b[1;32m     77\u001b[0m \u001b[0;34m\u001b[0m\u001b[0m\n\u001b[1;32m     78\u001b[0m \u001b[0;31m# Check if tool_calls are suggested and simulate execution of the tool\u001b[0m\u001b[0;34m\u001b[0m\u001b[0;34m\u001b[0m\u001b[0m\n",
            "\u001b[0;32m/usr/local/lib/python3.10/dist-packages/cohere/client.py\u001b[0m in \u001b[0;36m_wrapped\u001b[0;34m(*args, **kwargs)\u001b[0m\n\u001b[1;32m    101\u001b[0m                 \u001b[0;34m\"To suppress this warning, set `log_warning_experimental_features=False` when initializing the client.\"\u001b[0m\u001b[0;34m\u001b[0m\u001b[0;34m\u001b[0m\u001b[0m\n\u001b[1;32m    102\u001b[0m             )\n\u001b[0;32m--> 103\u001b[0;31m         \u001b[0;32mreturn\u001b[0m \u001b[0mfunc\u001b[0m\u001b[0;34m(\u001b[0m\u001b[0;34m*\u001b[0m\u001b[0margs\u001b[0m\u001b[0;34m,\u001b[0m \u001b[0;34m**\u001b[0m\u001b[0mkwargs\u001b[0m\u001b[0;34m)\u001b[0m\u001b[0;34m\u001b[0m\u001b[0;34m\u001b[0m\u001b[0m\n\u001b[0m\u001b[1;32m    104\u001b[0m \u001b[0;34m\u001b[0m\u001b[0m\n\u001b[1;32m    105\u001b[0m     \u001b[0;32masync\u001b[0m \u001b[0;32mdef\u001b[0m \u001b[0m_async_wrapped\u001b[0m\u001b[0;34m(\u001b[0m\u001b[0;34m*\u001b[0m\u001b[0margs\u001b[0m\u001b[0;34m,\u001b[0m \u001b[0;34m**\u001b[0m\u001b[0mkwargs\u001b[0m\u001b[0;34m)\u001b[0m\u001b[0;34m:\u001b[0m\u001b[0;34m\u001b[0m\u001b[0;34m\u001b[0m\u001b[0m\n",
            "\u001b[0;32m/usr/local/lib/python3.10/dist-packages/cohere/client.py\u001b[0m in \u001b[0;36m_wrapped\u001b[0;34m(*args, **kwargs)\u001b[0m\n\u001b[1;32m     33\u001b[0m     \u001b[0;32mdef\u001b[0m \u001b[0m_wrapped\u001b[0m\u001b[0;34m(\u001b[0m\u001b[0;34m*\u001b[0m\u001b[0margs\u001b[0m\u001b[0;34m:\u001b[0m \u001b[0mtyping\u001b[0m\u001b[0;34m.\u001b[0m\u001b[0mAny\u001b[0m\u001b[0;34m,\u001b[0m \u001b[0;34m**\u001b[0m\u001b[0mkwargs\u001b[0m\u001b[0;34m:\u001b[0m \u001b[0mtyping\u001b[0m\u001b[0;34m.\u001b[0m\u001b[0mAny\u001b[0m\u001b[0;34m)\u001b[0m \u001b[0;34m->\u001b[0m \u001b[0mtyping\u001b[0m\u001b[0;34m.\u001b[0m\u001b[0mAny\u001b[0m\u001b[0;34m:\u001b[0m\u001b[0;34m\u001b[0m\u001b[0;34m\u001b[0m\u001b[0m\n\u001b[1;32m     34\u001b[0m         \u001b[0mcheck_fn\u001b[0m\u001b[0;34m(\u001b[0m\u001b[0;34m*\u001b[0m\u001b[0margs\u001b[0m\u001b[0;34m,\u001b[0m \u001b[0;34m**\u001b[0m\u001b[0mkwargs\u001b[0m\u001b[0;34m)\u001b[0m\u001b[0;34m\u001b[0m\u001b[0;34m\u001b[0m\u001b[0m\n\u001b[0;32m---> 35\u001b[0;31m         \u001b[0;32mreturn\u001b[0m \u001b[0mmethod\u001b[0m\u001b[0;34m(\u001b[0m\u001b[0;34m*\u001b[0m\u001b[0margs\u001b[0m\u001b[0;34m,\u001b[0m \u001b[0;34m**\u001b[0m\u001b[0mkwargs\u001b[0m\u001b[0;34m)\u001b[0m\u001b[0;34m\u001b[0m\u001b[0;34m\u001b[0m\u001b[0m\n\u001b[0m\u001b[1;32m     36\u001b[0m \u001b[0;34m\u001b[0m\u001b[0m\n\u001b[1;32m     37\u001b[0m     \u001b[0;32masync\u001b[0m \u001b[0;32mdef\u001b[0m \u001b[0m_async_wrapped\u001b[0m\u001b[0;34m(\u001b[0m\u001b[0;34m*\u001b[0m\u001b[0margs\u001b[0m\u001b[0;34m:\u001b[0m \u001b[0mtyping\u001b[0m\u001b[0;34m.\u001b[0m\u001b[0mAny\u001b[0m\u001b[0;34m,\u001b[0m \u001b[0;34m**\u001b[0m\u001b[0mkwargs\u001b[0m\u001b[0;34m:\u001b[0m \u001b[0mtyping\u001b[0m\u001b[0;34m.\u001b[0m\u001b[0mAny\u001b[0m\u001b[0;34m)\u001b[0m \u001b[0;34m->\u001b[0m \u001b[0mtyping\u001b[0m\u001b[0;34m.\u001b[0m\u001b[0mAny\u001b[0m\u001b[0;34m:\u001b[0m\u001b[0;34m\u001b[0m\u001b[0;34m\u001b[0m\u001b[0m\n",
            "\u001b[0;32m/usr/local/lib/python3.10/dist-packages/cohere/v2/client.py\u001b[0m in \u001b[0;36mchat\u001b[0;34m(self, model, messages, tools, documents, citation_options, response_format, safety_mode, max_tokens, stop_sequences, temperature, seed, frequency_penalty, presence_penalty, k, p, return_prompt, request_options)\u001b[0m\n\u001b[1;32m    590\u001b[0m                 )\n\u001b[1;32m    591\u001b[0m             \u001b[0;32mif\u001b[0m \u001b[0m_response\u001b[0m\u001b[0;34m.\u001b[0m\u001b[0mstatus_code\u001b[0m \u001b[0;34m==\u001b[0m \u001b[0;36m422\u001b[0m\u001b[0;34m:\u001b[0m\u001b[0;34m\u001b[0m\u001b[0;34m\u001b[0m\u001b[0m\n\u001b[0;32m--> 592\u001b[0;31m                 raise UnprocessableEntityError(\n\u001b[0m\u001b[1;32m    593\u001b[0m                     typing.cast(\n\u001b[1;32m    594\u001b[0m                         \u001b[0mUnprocessableEntityErrorBody\u001b[0m\u001b[0;34m,\u001b[0m\u001b[0;34m\u001b[0m\u001b[0;34m\u001b[0m\u001b[0m\n",
            "\u001b[0;31mUnprocessableEntityError\u001b[0m: status_code: 422, body: data=None message='unknown field: parameter name is not a valid field. For proper usage, please refer to https://docs.cohere.com/reference/chat'"
          ]
        }
      ],
      "source": [
        "#"
      ]
    }
  ],
  "metadata": {
    "colab": {
      "provenance": []
    },
    "kernelspec": {
      "display_name": "base",
      "language": "python",
      "name": "base"
    },
    "language_info": {
      "codemirror_mode": {
        "name": "ipython",
        "version": 3
      },
      "file_extension": ".py",
      "mimetype": "text/x-python",
      "name": "python",
      "nbconvert_exporter": "python",
      "pygments_lexer": "ipython3",
      "version": "3.11.4"
    }
  },
  "nbformat": 4,
  "nbformat_minor": 0
}