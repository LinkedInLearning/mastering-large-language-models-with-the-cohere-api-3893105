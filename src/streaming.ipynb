{
  "cells": [
    {
      "cell_type": "code",
      "execution_count": null,
      "metadata": {
        "colab": {
          "background_save": true
        },
        "id": "3O7pPNhPvo5g"
      },
      "outputs": [],
      "source": [
        "! pip install cohere -q\n",
        "import cohere\n",
        "co = cohere.ClientV2(\"\") # Get your free API key: https://dashboard.cohere.com/api-keys"
      ]
    },
    {
      "cell_type": "markdown",
      "metadata": {
        "id": "P6YrR6WeO_O-"
      },
      "source": [
        "\n",
        "To get started with Chat, we add a user message to the `messages` parameter and define the model type in the `model` parameter. We then call the Chat endpoint through the client we created earlier.\n"
      ]
    },
    {
      "cell_type": "code",
      "execution_count": null,
      "metadata": {
        "colab": {
          "base_uri": "https://localhost:8080/"
        },
        "id": "Y0oUFu9hO23P",
        "outputId": "11460c64-1b01-419a-a6ac-f7483ed024a3"
      },
      "outputs": [],
      "source": [
        "# Add the user message\n",
        "message = \"I've just joined a new game studio called DragonForge Games today. Could you help me write an introduction message for my new team?\"\n",
        "\n",
        "\n",
        "# Generate the response\n",
        "response = co.chat(model=\"command-r-plus-08-2024\",\n",
        "                   messages=[{'role':'user', 'content': message}])\n",
        "\n",
        "print(response.message.content[0].text)"
      ]
    },
    {
      "cell_type": "markdown",
      "metadata": {
        "id": "TogMI9nkPCer"
      },
      "source": [
        "Optionally, you can add a system message to help steer a chatbot’s response toward certain characteristics.\n"
      ]
    },
    {
      "cell_type": "code",
      "execution_count": null,
      "metadata": {
        "colab": {
          "base_uri": "https://localhost:8080/"
        },
        "id": "h_a4AhLbO-KF",
        "outputId": "e1f07d95-efeb-4688-80e7-2f21d07987e5"
      },
      "outputs": [],
      "source": [
        "# Add the user message\n",
        "message = \"I've just joined a new game studio called DragonForge Games today. Could you help me write an introduction message for my new team?\"\n",
        "\n",
        "\n",
        "# Create a custom system message\n",
        "system_message = \"\"\"## Task and Context\n",
        "You are an assistant for new employees at DragonForge Games, a studio known for creating epic fantasy RPGs.\n",
        "\n",
        "## Style Guide\n",
        "Speak in a fantasy-themed manner, like a wise old sage. Keep the tone friendly but with an air of magic.\"\"\"\n",
        "\n",
        "\n",
        "# Add the messages\n",
        "messages = [{'role': 'system', 'content': system_message},\n",
        "            {'role': 'user', 'content': message}]\n",
        "\n",
        "# Generate the response\n",
        "response = co.chat(model=\"command-r-plus-08-2024\",\n",
        "                   messages=messages)\n",
        "\n",
        "print(response.message.content[0].text)"
      ]
    },
    {
      "cell_type": "code",
      "execution_count": null,
      "metadata": {
        "colab": {
          "base_uri": "https://localhost:8080/"
        },
        "id": "UGgXs5AtPEme",
        "outputId": "04081b29-f4ea-4c76-fb3e-8b5ea3985e13"
      },
      "outputs": [],
      "source": [
        "# Add the user message\n",
        "message = \"I've just joined a new game studio called DragonForge Games today. Could you help me write an introduction message for my new team?\"\n",
        "\n",
        "\n",
        "# Generate the response by streaming it\n",
        "response = co.chat_stream(model=\"command-r-plus-08-2024\",\n",
        "                          messages=[{'role':'user', 'content': message}])\n",
        "\n",
        "for event in response:\n",
        "    if event.type == \"content-delta\":\n",
        "        print(event.delta.message.content.text, end=\"\")"
      ]
    },
    {
      "cell_type": "code",
      "execution_count": null,
      "metadata": {
        "colab": {
          "base_uri": "https://localhost:8080/",
          "height": 654
        },
        "id": "g32Ld7Z1zbTb",
        "outputId": "dfdb8c1e-b61e-48e5-d3a3-911fc353ff69"
      },
      "outputs": [],
      "source": [
        "#"
      ]
    }
  ],
  "metadata": {
    "colab": {
      "provenance": []
    },
    "kernelspec": {
      "display_name": "base",
      "language": "python",
      "name": "base"
    },
    "language_info": {
      "codemirror_mode": {
        "name": "ipython",
        "version": 3
      },
      "file_extension": ".py",
      "mimetype": "text/x-python",
      "name": "python",
      "nbconvert_exporter": "python",
      "pygments_lexer": "ipython3",
      "version": "3.11.4"
    }
  },
  "nbformat": 4,
  "nbformat_minor": 0
}
